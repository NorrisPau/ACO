{
  "nbformat": 4,
  "nbformat_minor": 0,
  "metadata": {
    "colab": {
      "name": "train.ipynb",
      "provenance": [],
      "collapsed_sections": []
    },
    "kernelspec": {
      "name": "python3",
      "display_name": "Python 3"
    },
    "accelerator": "GPU"
  },
  "cells": [
    {
      "cell_type": "markdown",
      "metadata": {
        "id": "D8usSW9Bwv4h"
      },
      "source": [
        "# AIR - Exercise in Google Colab\n",
        "\n",
        "## Colab Preparation\n",
        "\n",
        "Open via google drive -> right click: open with Colab\n",
        "\n",
        "**Get a GPU**\n",
        "\n",
        "Toolbar -> Runtime -> Change Runtime Type -> GPU\n",
        "\n",
        "**Mount Google Drive**\n",
        "\n",
        "* Download data and clone your github repo to your Google Drive folder\n",
        "* Use Google Drive as connection between Github and Colab (Could also use direct github access, but re-submitting credentials might be annoying)\n",
        "* Commit to Github locally from the synced drive\n",
        "\n",
        "**Keep Alive**\n",
        "\n",
        "When training google colab tends to kick you out, This might help: https://medium.com/@shivamrawat_756/how-to-prevent-google-colab-from-disconnecting-717b88a128c0\n",
        "\n",
        "**Get Started**\n",
        "\n",
        "Run the following script to mount google drive and install needed python packages. Pytorch comes pre-installed."
      ]
    },
    {
      "cell_type": "code",
      "execution_count": 1,
      "metadata": {
        "colab": {
          "base_uri": "https://localhost:8080/"
        },
        "id": "Sfiw_6jZ0uWa",
        "outputId": "55e62c1f-6088-43df-fefa-e13008b5d45b"
      },
      "outputs": [
        {
          "output_type": "stream",
          "name": "stdout",
          "text": [
            "Mounted at /content/drive\n"
          ]
        }
      ],
      "source": [
        "from google.colab import drive\n",
        "drive.mount('/content/drive')"
      ]
    },
    {
      "cell_type": "code",
      "source": [
        "from google.colab import drive"
      ],
      "metadata": {
        "id": "Fg180lOm26ny"
      },
      "execution_count": 2,
      "outputs": []
    },
    {
      "cell_type": "code",
      "source": [
        "#for tuples\n",
        "root_path = \"/content/drive/MyDrive/air-20222-group-8-data/msmarco-fira-21.qrels.qa-tuples.tsv\""
      ],
      "metadata": {
        "id": "xztTXAU329QR"
      },
      "execution_count": 3,
      "outputs": []
    },
    {
      "cell_type": "code",
      "execution_count": null,
      "metadata": {
        "id": "IUVVDw1m2sed"
      },
      "outputs": [],
      "source": [
        "## implement part 2 here"
      ]
    },
    {
      "cell_type": "markdown",
      "source": [
        "# PLAN\n",
        "1. Select a pre-trained extractive QA (Question-Answer) model from the model hub to use\n",
        "2. Load the model\n",
        "3. Tokenize query passage pairs\n",
        "4. Run inference\n",
        "5. Store results with HuggingFace library: Provide >=1 text-spans that answers a given (query, passage) pair\n",
        "6. Evaluate >= top1 MSMARCO passage results from best re-ranking model\n",
        "\n",
        "Sources:\n",
        "- Tutorial for Pipeline: https://towardsdatascience.com/question-and-answering-with-bert-6ef89a78dac\n",
        "- Explanation of BERT: http://jalammar.github.io/illustrated-transformer/\n"
      ],
      "metadata": {
        "collapsed": false,
        "id": "qzGaiwDQ0dI3"
      }
    },
    {
      "cell_type": "code",
      "execution_count": null,
      "outputs": [],
      "source": [
        "!pip install transformers\n",
        "import pandas as pd"
      ],
      "metadata": {
        "pycharm": {
          "name": "#%%\n"
        },
        "id": "pprlJxWx0dI4"
      }
    },
    {
      "cell_type": "code",
      "execution_count": null,
      "outputs": [],
      "source": [
        "### 0. Test Data\n",
        "# Test Sets: cannot read in data (TODO: Check core.metrics)\n",
        "# 1. msmarco-fira-21.qrels.qa-answers.tsv:\n",
        "# queryid\n",
        "# documentid\n",
        "# relevance-grade text-selection (multiple answers possible, split with tab)\n",
        "\n",
        "# 2. msmarco-fira-21.qrels.qa-tuples.tsv\n",
        "# queryid\n",
        "# documentid\n",
        "# relevance-grade\n",
        "# query-text\n",
        "# document-text\n",
        "# text-selection (multiple answers possible, split with tab)"
      ],
      "metadata": {
        "pycharm": {
          "name": "#%%\n"
        },
        "id": "hhKYDJXR0dI5"
      }
    },
    {
      "cell_type": "code",
      "execution_count": null,
      "outputs": [],
      "source": [
        "# Training data\n",
        "# Input: (query,passage) pairs --> Use msmarco qa tuples?\n",
        "# Output of model: >=1 text spans answering the pair --> msmarco qa answers"
      ],
      "metadata": {
        "pycharm": {
          "name": "#%%\n"
        },
        "id": "UcD_L6e10dI6"
      }
    },
    {
      "cell_type": "markdown",
      "source": [
        "# 1. Read in Data"
      ],
      "metadata": {
        "collapsed": false,
        "id": "cOKojPQt0dI7"
      }
    },
    {
      "cell_type": "markdown",
      "source": [
        ""
      ],
      "metadata": {
        "collapsed": false,
        "id": "QMMKk8HX0dI7"
      }
    },
    {
      "cell_type": "code",
      "execution_count": 6,
      "outputs": [],
      "source": [
        "qa_tuples = pd.read_csv(\"/content/drive/MyDrive/air-20222-group-8-data/msmarco-fira-21.qrels.qa-tuples.tsv\", sep = \"\\t\", names=[\"query_id\", \"document_id\", \"relevance_grade\", \"query_text\", \"document_text\", \"NA\",\"text_selection\"])"
      ],
      "metadata": {
        "pycharm": {
          "name": "#%%\n"
        },
        "id": "n6wjUpgN0dI8"
      }
    },
    {
      "cell_type": "markdown",
      "source": [
        ""
      ],
      "metadata": {
        "collapsed": false,
        "id": "AKs_oSRF0dI8"
      }
    },
    {
      "cell_type": "code",
      "execution_count": 7,
      "outputs": [
        {
          "output_type": "stream",
          "name": "stderr",
          "text": [
            "/usr/local/lib/python3.7/dist-packages/ipykernel_launcher.py:2: FutureWarning: In a future version of pandas all arguments of DataFrame.drop except for the argument 'labels' will be keyword-only\n",
            "  \n"
          ]
        }
      ],
      "source": [
        "#Drop NA Column\n",
        "qa_tuples = qa_tuples.drop('NA', 1)"
      ],
      "metadata": {
        "pycharm": {
          "name": "#%%\n"
        },
        "colab": {
          "base_uri": "https://localhost:8080/"
        },
        "id": "5qQ7Kfak0dI9",
        "outputId": "64b3032b-6b98-4443-9133-dda40fc4db4d"
      }
    },
    {
      "cell_type": "code",
      "execution_count": 8,
      "outputs": [
        {
          "output_type": "execute_result",
          "data": {
            "text/plain": [
              "       query_id  document_id  relevance_grade  \\\n",
              "0        135386       100163                3   \n",
              "1        290779       101026                3   \n",
              "2         21741      1021598                3   \n",
              "3        810210      1029662                3   \n",
              "4       1097448       103635                3   \n",
              "...         ...          ...              ...   \n",
              "52601    525779      4877404                2   \n",
              "52602    210442      4877731                3   \n",
              "52603   1088928      4878423                3   \n",
              "52604    550565      4881591                3   \n",
              "52605    474873      4882630                3   \n",
              "\n",
              "                                              query_text  \\\n",
              "0                              definition of imagination   \n",
              "1      how many oscars has clint eastwood won?pdrijgh...   \n",
              "2             are cold sores and fever blisters the same   \n",
              "3                what is the cause of blood in the stool   \n",
              "4                  how many calories in slim fast shakes   \n",
              "...                                                  ...   \n",
              "52601                                  twin tower adress   \n",
              "52602           how can i get more energy while pregnant   \n",
              "52603         vitamins a, d, e, and k are dependent upon   \n",
              "52604   what age can you wear baby on back in a carrier?   \n",
              "52605                   phone number to cancel sirius xm   \n",
              "\n",
              "                                           document_text  \\\n",
              "0      imagination - the formation of a mental image ...   \n",
              "1      Clint Eastwood -- five-time Oscar winner and e...   \n",
              "2      Cold sores, sometimes called fever blisters, a...   \n",
              "3      Having blood in the stool can be the result of...   \n",
              "4      The chocolate-flavored shake contains 190, whi...   \n",
              "...                                                  ...   \n",
              "52601  The twin towers were built in the borough of M...   \n",
              "52602  To compensate for this your body will require ...   \n",
              "52603  Four important fat-soluble vitamins are A, D, ...   \n",
              "52604  When can I carry my baby in a front pack facin...   \n",
              "52605  Call 1-855-236-9236 when you get your new GMC ...   \n",
              "\n",
              "                                          text_selection  \n",
              "0      the formation of a mental image of something t...  \n",
              "1                                                   five  \n",
              "2            Cold sores, sometimes called fever blisters  \n",
              "3      wide variety of conditions, such as hemorrhoid...  \n",
              "4                  chocolate-flavored shake contains 190  \n",
              "...                                                  ...  \n",
              "52601  The twin towers were built in the borough of M...  \n",
              "52602  To compensate for this your body will require ...  \n",
              "52603  Vitamins A, D, and K cooperate synergistically...  \n",
              "52604  As soon as your baby can hold his head up stea...  \n",
              "52605  Call 1-855-236-9236 when you get your new GMC ...  \n",
              "\n",
              "[52606 rows x 6 columns]"
            ],
            "text/html": [
              "\n",
              "  <div id=\"df-57710c97-1eeb-4267-bca2-eda646c93b9b\">\n",
              "    <div class=\"colab-df-container\">\n",
              "      <div>\n",
              "<style scoped>\n",
              "    .dataframe tbody tr th:only-of-type {\n",
              "        vertical-align: middle;\n",
              "    }\n",
              "\n",
              "    .dataframe tbody tr th {\n",
              "        vertical-align: top;\n",
              "    }\n",
              "\n",
              "    .dataframe thead th {\n",
              "        text-align: right;\n",
              "    }\n",
              "</style>\n",
              "<table border=\"1\" class=\"dataframe\">\n",
              "  <thead>\n",
              "    <tr style=\"text-align: right;\">\n",
              "      <th></th>\n",
              "      <th>query_id</th>\n",
              "      <th>document_id</th>\n",
              "      <th>relevance_grade</th>\n",
              "      <th>query_text</th>\n",
              "      <th>document_text</th>\n",
              "      <th>text_selection</th>\n",
              "    </tr>\n",
              "  </thead>\n",
              "  <tbody>\n",
              "    <tr>\n",
              "      <th>0</th>\n",
              "      <td>135386</td>\n",
              "      <td>100163</td>\n",
              "      <td>3</td>\n",
              "      <td>definition of imagination</td>\n",
              "      <td>imagination - the formation of a mental image ...</td>\n",
              "      <td>the formation of a mental image of something t...</td>\n",
              "    </tr>\n",
              "    <tr>\n",
              "      <th>1</th>\n",
              "      <td>290779</td>\n",
              "      <td>101026</td>\n",
              "      <td>3</td>\n",
              "      <td>how many oscars has clint eastwood won?pdrijgh...</td>\n",
              "      <td>Clint Eastwood -- five-time Oscar winner and e...</td>\n",
              "      <td>five</td>\n",
              "    </tr>\n",
              "    <tr>\n",
              "      <th>2</th>\n",
              "      <td>21741</td>\n",
              "      <td>1021598</td>\n",
              "      <td>3</td>\n",
              "      <td>are cold sores and fever blisters the same</td>\n",
              "      <td>Cold sores, sometimes called fever blisters, a...</td>\n",
              "      <td>Cold sores, sometimes called fever blisters</td>\n",
              "    </tr>\n",
              "    <tr>\n",
              "      <th>3</th>\n",
              "      <td>810210</td>\n",
              "      <td>1029662</td>\n",
              "      <td>3</td>\n",
              "      <td>what is the cause of blood in the stool</td>\n",
              "      <td>Having blood in the stool can be the result of...</td>\n",
              "      <td>wide variety of conditions, such as hemorrhoid...</td>\n",
              "    </tr>\n",
              "    <tr>\n",
              "      <th>4</th>\n",
              "      <td>1097448</td>\n",
              "      <td>103635</td>\n",
              "      <td>3</td>\n",
              "      <td>how many calories in slim fast shakes</td>\n",
              "      <td>The chocolate-flavored shake contains 190, whi...</td>\n",
              "      <td>chocolate-flavored shake contains 190</td>\n",
              "    </tr>\n",
              "    <tr>\n",
              "      <th>...</th>\n",
              "      <td>...</td>\n",
              "      <td>...</td>\n",
              "      <td>...</td>\n",
              "      <td>...</td>\n",
              "      <td>...</td>\n",
              "      <td>...</td>\n",
              "    </tr>\n",
              "    <tr>\n",
              "      <th>52601</th>\n",
              "      <td>525779</td>\n",
              "      <td>4877404</td>\n",
              "      <td>2</td>\n",
              "      <td>twin tower adress</td>\n",
              "      <td>The twin towers were built in the borough of M...</td>\n",
              "      <td>The twin towers were built in the borough of M...</td>\n",
              "    </tr>\n",
              "    <tr>\n",
              "      <th>52602</th>\n",
              "      <td>210442</td>\n",
              "      <td>4877731</td>\n",
              "      <td>3</td>\n",
              "      <td>how can i get more energy while pregnant</td>\n",
              "      <td>To compensate for this your body will require ...</td>\n",
              "      <td>To compensate for this your body will require ...</td>\n",
              "    </tr>\n",
              "    <tr>\n",
              "      <th>52603</th>\n",
              "      <td>1088928</td>\n",
              "      <td>4878423</td>\n",
              "      <td>3</td>\n",
              "      <td>vitamins a, d, e, and k are dependent upon</td>\n",
              "      <td>Four important fat-soluble vitamins are A, D, ...</td>\n",
              "      <td>Vitamins A, D, and K cooperate synergistically...</td>\n",
              "    </tr>\n",
              "    <tr>\n",
              "      <th>52604</th>\n",
              "      <td>550565</td>\n",
              "      <td>4881591</td>\n",
              "      <td>3</td>\n",
              "      <td>what age can you wear baby on back in a carrier?</td>\n",
              "      <td>When can I carry my baby in a front pack facin...</td>\n",
              "      <td>As soon as your baby can hold his head up stea...</td>\n",
              "    </tr>\n",
              "    <tr>\n",
              "      <th>52605</th>\n",
              "      <td>474873</td>\n",
              "      <td>4882630</td>\n",
              "      <td>3</td>\n",
              "      <td>phone number to cancel sirius xm</td>\n",
              "      <td>Call 1-855-236-9236 when you get your new GMC ...</td>\n",
              "      <td>Call 1-855-236-9236 when you get your new GMC ...</td>\n",
              "    </tr>\n",
              "  </tbody>\n",
              "</table>\n",
              "<p>52606 rows × 6 columns</p>\n",
              "</div>\n",
              "      <button class=\"colab-df-convert\" onclick=\"convertToInteractive('df-57710c97-1eeb-4267-bca2-eda646c93b9b')\"\n",
              "              title=\"Convert this dataframe to an interactive table.\"\n",
              "              style=\"display:none;\">\n",
              "        \n",
              "  <svg xmlns=\"http://www.w3.org/2000/svg\" height=\"24px\"viewBox=\"0 0 24 24\"\n",
              "       width=\"24px\">\n",
              "    <path d=\"M0 0h24v24H0V0z\" fill=\"none\"/>\n",
              "    <path d=\"M18.56 5.44l.94 2.06.94-2.06 2.06-.94-2.06-.94-.94-2.06-.94 2.06-2.06.94zm-11 1L8.5 8.5l.94-2.06 2.06-.94-2.06-.94L8.5 2.5l-.94 2.06-2.06.94zm10 10l.94 2.06.94-2.06 2.06-.94-2.06-.94-.94-2.06-.94 2.06-2.06.94z\"/><path d=\"M17.41 7.96l-1.37-1.37c-.4-.4-.92-.59-1.43-.59-.52 0-1.04.2-1.43.59L10.3 9.45l-7.72 7.72c-.78.78-.78 2.05 0 2.83L4 21.41c.39.39.9.59 1.41.59.51 0 1.02-.2 1.41-.59l7.78-7.78 2.81-2.81c.8-.78.8-2.07 0-2.86zM5.41 20L4 18.59l7.72-7.72 1.47 1.35L5.41 20z\"/>\n",
              "  </svg>\n",
              "      </button>\n",
              "      \n",
              "  <style>\n",
              "    .colab-df-container {\n",
              "      display:flex;\n",
              "      flex-wrap:wrap;\n",
              "      gap: 12px;\n",
              "    }\n",
              "\n",
              "    .colab-df-convert {\n",
              "      background-color: #E8F0FE;\n",
              "      border: none;\n",
              "      border-radius: 50%;\n",
              "      cursor: pointer;\n",
              "      display: none;\n",
              "      fill: #1967D2;\n",
              "      height: 32px;\n",
              "      padding: 0 0 0 0;\n",
              "      width: 32px;\n",
              "    }\n",
              "\n",
              "    .colab-df-convert:hover {\n",
              "      background-color: #E2EBFA;\n",
              "      box-shadow: 0px 1px 2px rgba(60, 64, 67, 0.3), 0px 1px 3px 1px rgba(60, 64, 67, 0.15);\n",
              "      fill: #174EA6;\n",
              "    }\n",
              "\n",
              "    [theme=dark] .colab-df-convert {\n",
              "      background-color: #3B4455;\n",
              "      fill: #D2E3FC;\n",
              "    }\n",
              "\n",
              "    [theme=dark] .colab-df-convert:hover {\n",
              "      background-color: #434B5C;\n",
              "      box-shadow: 0px 1px 3px 1px rgba(0, 0, 0, 0.15);\n",
              "      filter: drop-shadow(0px 1px 2px rgba(0, 0, 0, 0.3));\n",
              "      fill: #FFFFFF;\n",
              "    }\n",
              "  </style>\n",
              "\n",
              "      <script>\n",
              "        const buttonEl =\n",
              "          document.querySelector('#df-57710c97-1eeb-4267-bca2-eda646c93b9b button.colab-df-convert');\n",
              "        buttonEl.style.display =\n",
              "          google.colab.kernel.accessAllowed ? 'block' : 'none';\n",
              "\n",
              "        async function convertToInteractive(key) {\n",
              "          const element = document.querySelector('#df-57710c97-1eeb-4267-bca2-eda646c93b9b');\n",
              "          const dataTable =\n",
              "            await google.colab.kernel.invokeFunction('convertToInteractive',\n",
              "                                                     [key], {});\n",
              "          if (!dataTable) return;\n",
              "\n",
              "          const docLinkHtml = 'Like what you see? Visit the ' +\n",
              "            '<a target=\"_blank\" href=https://colab.research.google.com/notebooks/data_table.ipynb>data table notebook</a>'\n",
              "            + ' to learn more about interactive tables.';\n",
              "          element.innerHTML = '';\n",
              "          dataTable['output_type'] = 'display_data';\n",
              "          await google.colab.output.renderOutput(dataTable, element);\n",
              "          const docLink = document.createElement('div');\n",
              "          docLink.innerHTML = docLinkHtml;\n",
              "          element.appendChild(docLink);\n",
              "        }\n",
              "      </script>\n",
              "    </div>\n",
              "  </div>\n",
              "  "
            ]
          },
          "metadata": {},
          "execution_count": 8
        }
      ],
      "source": [
        "qa_tuples"
      ],
      "metadata": {
        "pycharm": {
          "name": "#%%\n"
        },
        "colab": {
          "base_uri": "https://localhost:8080/",
          "height": 641
        },
        "id": "UztGpSAP0dI-",
        "outputId": "98c6c712-2473-49b4-bc51-eb941a74b5de"
      }
    },
    {
      "cell_type": "markdown",
      "source": [
        "Question: How to read in full dataset here?"
      ],
      "metadata": {
        "collapsed": false,
        "id": "Yz5ja1e30dI_"
      }
    },
    {
      "cell_type": "markdown",
      "source": [
        "## Test Dataset: QA Answers"
      ],
      "metadata": {
        "collapsed": false,
        "id": "VSBHWi0a0dJA"
      }
    },
    {
      "cell_type": "code",
      "execution_count": null,
      "outputs": [],
      "source": [
        "qa_answers = pd.read_csv(\"C:/Users/norap/Documents/GitHub/air-2022-group-8/air-exercise-2/Part-3/msmarco-fira-21.qrels.qa-answers.tsv\", sep = \"\\t\", names=[\"query_id\",\"document_id\", \"relevance_grade\", \"NA\", \"text_selection\"])"
      ],
      "metadata": {
        "pycharm": {
          "name": "#%%\n"
        },
        "id": "lbV8ShDO0dJA"
      }
    },
    {
      "cell_type": "code",
      "execution_count": null,
      "outputs": [
        {
          "data": {
            "text/plain": "   query_id  document_id  relevance_grade  NA  \\\n0    135386       100163                3 NaN   \n1    290779       101026                3 NaN   \n2     21741      1021598                3 NaN   \n3    810210      1029662                3 NaN   \n4   1097448       103635                3 NaN   \n\n                                      text_selection  \n0  the formation of a mental image of something t...  \n1                                               five  \n2        Cold sores, sometimes called fever blisters  \n3  wide variety of conditions, such as hemorrhoid...  \n4              chocolate-flavored shake contains 190  ",
            "text/html": "<div>\n<style scoped>\n    .dataframe tbody tr th:only-of-type {\n        vertical-align: middle;\n    }\n\n    .dataframe tbody tr th {\n        vertical-align: top;\n    }\n\n    .dataframe thead th {\n        text-align: right;\n    }\n</style>\n<table border=\"1\" class=\"dataframe\">\n  <thead>\n    <tr style=\"text-align: right;\">\n      <th></th>\n      <th>query_id</th>\n      <th>document_id</th>\n      <th>relevance_grade</th>\n      <th>NA</th>\n      <th>text_selection</th>\n    </tr>\n  </thead>\n  <tbody>\n    <tr>\n      <th>0</th>\n      <td>135386</td>\n      <td>100163</td>\n      <td>3</td>\n      <td>NaN</td>\n      <td>the formation of a mental image of something t...</td>\n    </tr>\n    <tr>\n      <th>1</th>\n      <td>290779</td>\n      <td>101026</td>\n      <td>3</td>\n      <td>NaN</td>\n      <td>five</td>\n    </tr>\n    <tr>\n      <th>2</th>\n      <td>21741</td>\n      <td>1021598</td>\n      <td>3</td>\n      <td>NaN</td>\n      <td>Cold sores, sometimes called fever blisters</td>\n    </tr>\n    <tr>\n      <th>3</th>\n      <td>810210</td>\n      <td>1029662</td>\n      <td>3</td>\n      <td>NaN</td>\n      <td>wide variety of conditions, such as hemorrhoid...</td>\n    </tr>\n    <tr>\n      <th>4</th>\n      <td>1097448</td>\n      <td>103635</td>\n      <td>3</td>\n      <td>NaN</td>\n      <td>chocolate-flavored shake contains 190</td>\n    </tr>\n  </tbody>\n</table>\n</div>"
          },
          "execution_count": 89,
          "metadata": {},
          "output_type": "execute_result"
        }
      ],
      "source": [
        "qa_answers.head()"
      ],
      "metadata": {
        "pycharm": {
          "name": "#%%\n"
        },
        "id": "YLKdJel70dJA",
        "outputId": "5c7e02a9-a122-4adc-ad40-94a50cb7d77e"
      }
    },
    {
      "cell_type": "markdown",
      "source": [
        ""
      ],
      "metadata": {
        "collapsed": false,
        "id": "Bkoq0sFO0dJB"
      }
    },
    {
      "cell_type": "markdown",
      "source": [
        ""
      ],
      "metadata": {
        "collapsed": false,
        "id": "G9L9bVU30dJB"
      }
    },
    {
      "cell_type": "markdown",
      "source": [
        "Explanation: https://huggingface.co/course/chapter7/7?fw=pt"
      ],
      "metadata": {
        "collapsed": false,
        "id": "i4rYCyld0dJB"
      }
    },
    {
      "cell_type": "markdown",
      "source": [
        "Format we need:\n",
        "- context: document text (in qa tuples)\n",
        "- question: query (query_text in qa tuples)\n",
        "- answer_start: passage (text selection in qa tuples)\n",
        "- answer_end:"
      ],
      "metadata": {
        "collapsed": false,
        "id": "a0rhSHBK0dJB"
      }
    },
    {
      "cell_type": "code",
      "execution_count": null,
      "outputs": [
        {
          "name": "stdout",
          "output_type": "stream",
          "text": [
            "Requirement already satisfied: datasets in c:\\users\\norap\\.conda\\envs\\air-2022-group-8_3_7\\lib\\site-packages (2.2.2)\n",
            "Requirement already satisfied: xxhash in c:\\users\\norap\\.conda\\envs\\air-2022-group-8_3_7\\lib\\site-packages (from datasets) (3.0.0)\n",
            "Requirement already satisfied: responses<0.19 in c:\\users\\norap\\.conda\\envs\\air-2022-group-8_3_7\\lib\\site-packages (from datasets) (0.18.0)\n",
            "Requirement already satisfied: pyarrow>=6.0.0 in c:\\users\\norap\\.conda\\envs\\air-2022-group-8_3_7\\lib\\site-packages (from datasets) (8.0.0)\n",
            "Requirement already satisfied: requests>=2.19.0 in c:\\users\\norap\\.conda\\envs\\air-2022-group-8_3_7\\lib\\site-packages (from datasets) (2.27.1)\n",
            "Requirement already satisfied: dill<0.3.5 in c:\\users\\norap\\.conda\\envs\\air-2022-group-8_3_7\\lib\\site-packages (from datasets) (0.3.4)\n",
            "Requirement already satisfied: importlib-metadata in c:\\users\\norap\\.conda\\envs\\air-2022-group-8_3_7\\lib\\site-packages (from datasets) (4.11.3)\n",
            "Requirement already satisfied: multiprocess in c:\\users\\norap\\.conda\\envs\\air-2022-group-8_3_7\\lib\\site-packages (from datasets) (0.70.12.2)\n",
            "Requirement already satisfied: tqdm>=4.62.1 in c:\\users\\norap\\.conda\\envs\\air-2022-group-8_3_7\\lib\\site-packages (from datasets) (4.64.0)\n",
            "Requirement already satisfied: fsspec[http]>=2021.05.0 in c:\\users\\norap\\.conda\\envs\\air-2022-group-8_3_7\\lib\\site-packages (from datasets) (2022.5.0)\n",
            "Requirement already satisfied: aiohttp in c:\\users\\norap\\.conda\\envs\\air-2022-group-8_3_7\\lib\\site-packages (from datasets) (3.8.1)\n",
            "Requirement already satisfied: huggingface-hub<1.0.0,>=0.1.0 in c:\\users\\norap\\.conda\\envs\\air-2022-group-8_3_7\\lib\\site-packages (from datasets) (0.7.0)\n",
            "Requirement already satisfied: packaging in c:\\users\\norap\\.conda\\envs\\air-2022-group-8_3_7\\lib\\site-packages (from datasets) (21.3)\n",
            "Requirement already satisfied: numpy>=1.17 in c:\\users\\norap\\.conda\\envs\\air-2022-group-8_3_7\\lib\\site-packages (from datasets) (1.21.6)\n",
            "Requirement already satisfied: pandas in c:\\users\\norap\\.conda\\envs\\air-2022-group-8_3_7\\lib\\site-packages (from datasets) (1.3.5)\n",
            "Requirement already satisfied: filelock in c:\\users\\norap\\.conda\\envs\\air-2022-group-8_3_7\\lib\\site-packages (from huggingface-hub<1.0.0,>=0.1.0->datasets) (3.0.12)\n",
            "Requirement already satisfied: typing-extensions>=3.7.4.3 in c:\\users\\norap\\.conda\\envs\\air-2022-group-8_3_7\\lib\\site-packages (from huggingface-hub<1.0.0,>=0.1.0->datasets) (4.2.0)\n",
            "Requirement already satisfied: pyyaml>=5.1 in c:\\users\\norap\\.conda\\envs\\air-2022-group-8_3_7\\lib\\site-packages (from huggingface-hub<1.0.0,>=0.1.0->datasets) (6.0)\n",
            "Requirement already satisfied: pyparsing!=3.0.5,>=2.0.2 in c:\\users\\norap\\.conda\\envs\\air-2022-group-8_3_7\\lib\\site-packages (from packaging->datasets) (3.0.8)\n",
            "Requirement already satisfied: urllib3<1.27,>=1.21.1 in c:\\users\\norap\\.conda\\envs\\air-2022-group-8_3_7\\lib\\site-packages (from requests>=2.19.0->datasets) (1.26.9)\n",
            "Requirement already satisfied: charset-normalizer~=2.0.0 in c:\\users\\norap\\.conda\\envs\\air-2022-group-8_3_7\\lib\\site-packages (from requests>=2.19.0->datasets) (2.0.12)\n",
            "Requirement already satisfied: idna<4,>=2.5 in c:\\users\\norap\\.conda\\envs\\air-2022-group-8_3_7\\lib\\site-packages (from requests>=2.19.0->datasets) (3.3)\n",
            "Requirement already satisfied: certifi>=2017.4.17 in c:\\users\\norap\\.conda\\envs\\air-2022-group-8_3_7\\lib\\site-packages (from requests>=2.19.0->datasets) (2021.10.8)\n",
            "Requirement already satisfied: colorama in c:\\users\\norap\\.conda\\envs\\air-2022-group-8_3_7\\lib\\site-packages (from tqdm>=4.62.1->datasets) (0.4.4)\n",
            "Requirement already satisfied: multidict<7.0,>=4.5 in c:\\users\\norap\\.conda\\envs\\air-2022-group-8_3_7\\lib\\site-packages (from aiohttp->datasets) (6.0.2)\n",
            "Requirement already satisfied: aiosignal>=1.1.2 in c:\\users\\norap\\.conda\\envs\\air-2022-group-8_3_7\\lib\\site-packages (from aiohttp->datasets) (1.2.0)\n",
            "Requirement already satisfied: frozenlist>=1.1.1 in c:\\users\\norap\\.conda\\envs\\air-2022-group-8_3_7\\lib\\site-packages (from aiohttp->datasets) (1.3.0)\n",
            "Requirement already satisfied: asynctest==0.13.0 in c:\\users\\norap\\.conda\\envs\\air-2022-group-8_3_7\\lib\\site-packages (from aiohttp->datasets) (0.13.0)\n",
            "Requirement already satisfied: attrs>=17.3.0 in c:\\users\\norap\\.conda\\envs\\air-2022-group-8_3_7\\lib\\site-packages (from aiohttp->datasets) (21.4.0)\n",
            "Requirement already satisfied: yarl<2.0,>=1.0 in c:\\users\\norap\\.conda\\envs\\air-2022-group-8_3_7\\lib\\site-packages (from aiohttp->datasets) (1.7.2)\n",
            "Requirement already satisfied: async-timeout<5.0,>=4.0.0a3 in c:\\users\\norap\\.conda\\envs\\air-2022-group-8_3_7\\lib\\site-packages (from aiohttp->datasets) (4.0.2)\n",
            "Requirement already satisfied: zipp>=0.5 in c:\\users\\norap\\.conda\\envs\\air-2022-group-8_3_7\\lib\\site-packages (from importlib-metadata->datasets) (3.8.0)\n",
            "Requirement already satisfied: python-dateutil>=2.7.3 in c:\\users\\norap\\.conda\\envs\\air-2022-group-8_3_7\\lib\\site-packages (from pandas->datasets) (2.8.2)\n",
            "Requirement already satisfied: pytz>=2017.3 in c:\\users\\norap\\.conda\\envs\\air-2022-group-8_3_7\\lib\\site-packages (from pandas->datasets) (2022.1)\n",
            "Requirement already satisfied: six>=1.5 in c:\\users\\norap\\.conda\\envs\\air-2022-group-8_3_7\\lib\\site-packages (from python-dateutil>=2.7.3->pandas->datasets) (1.16.0)\n"
          ]
        }
      ],
      "source": [
        "! pip install datasets #to see how the format of the dataset should look like"
      ],
      "metadata": {
        "pycharm": {
          "name": "#%%\n"
        },
        "id": "oJlqBBdw0dJC",
        "outputId": "e34f2935-9489-479b-e7bf-f199f28f4518"
      }
    },
    {
      "cell_type": "code",
      "execution_count": null,
      "outputs": [],
      "source": [
        "from datasets import load_dataset"
      ],
      "metadata": {
        "pycharm": {
          "name": "#%%\n"
        },
        "id": "wZ41P2BM0dJC"
      }
    },
    {
      "cell_type": "code",
      "execution_count": null,
      "outputs": [
        {
          "data": {
            "text/plain": "Downloading builder script:   0%|          | 0.00/1.97k [00:00<?, ?B/s]",
            "application/vnd.jupyter.widget-view+json": {
              "version_major": 2,
              "version_minor": 0,
              "model_id": "3a5c786ca3ff495dbb55ffdb3027ff93"
            }
          },
          "metadata": {},
          "output_type": "display_data"
        },
        {
          "data": {
            "text/plain": "Downloading metadata:   0%|          | 0.00/1.02k [00:00<?, ?B/s]",
            "application/vnd.jupyter.widget-view+json": {
              "version_major": 2,
              "version_minor": 0,
              "model_id": "38e3e4e0c1194d3b976e3ce3314ef6ac"
            }
          },
          "metadata": {},
          "output_type": "display_data"
        },
        {
          "name": "stdout",
          "output_type": "stream",
          "text": [
            "Downloading and preparing dataset squad/plain_text (download: 33.51 MiB, generated: 85.63 MiB, post-processed: Unknown size, total: 119.14 MiB) to C:\\Users\\norap\\.cache\\huggingface\\datasets\\squad\\plain_text\\1.0.0\\d6ec3ceb99ca480ce37cdd35555d6cb2511d223b9150cce08a837ef62ffea453...\n"
          ]
        },
        {
          "data": {
            "text/plain": "Downloading data files:   0%|          | 0/2 [00:00<?, ?it/s]",
            "application/vnd.jupyter.widget-view+json": {
              "version_major": 2,
              "version_minor": 0,
              "model_id": "3ea5652360b6434b81b6ea28320110d2"
            }
          },
          "metadata": {},
          "output_type": "display_data"
        },
        {
          "data": {
            "text/plain": "Downloading data:   0%|          | 0.00/8.12M [00:00<?, ?B/s]",
            "application/vnd.jupyter.widget-view+json": {
              "version_major": 2,
              "version_minor": 0,
              "model_id": "a2e2863b006248059d8bb12f263de79d"
            }
          },
          "metadata": {},
          "output_type": "display_data"
        },
        {
          "data": {
            "text/plain": "Downloading data:   0%|          | 0.00/1.05M [00:00<?, ?B/s]",
            "application/vnd.jupyter.widget-view+json": {
              "version_major": 2,
              "version_minor": 0,
              "model_id": "364e46d5cb6348c6a7e318364fca5e6b"
            }
          },
          "metadata": {},
          "output_type": "display_data"
        },
        {
          "data": {
            "text/plain": "Extracting data files:   0%|          | 0/2 [00:00<?, ?it/s]",
            "application/vnd.jupyter.widget-view+json": {
              "version_major": 2,
              "version_minor": 0,
              "model_id": "b3756425a87e4e4fb3b3db6f0893a6fc"
            }
          },
          "metadata": {},
          "output_type": "display_data"
        },
        {
          "data": {
            "text/plain": "Generating train split:   0%|          | 0/87599 [00:00<?, ? examples/s]",
            "application/vnd.jupyter.widget-view+json": {
              "version_major": 2,
              "version_minor": 0,
              "model_id": "53288329b7f34f63ad522df19e9df575"
            }
          },
          "metadata": {},
          "output_type": "display_data"
        },
        {
          "data": {
            "text/plain": "Generating validation split:   0%|          | 0/10570 [00:00<?, ? examples/s]",
            "application/vnd.jupyter.widget-view+json": {
              "version_major": 2,
              "version_minor": 0,
              "model_id": "1ee091ecc68f4effb79510096ae97a10"
            }
          },
          "metadata": {},
          "output_type": "display_data"
        },
        {
          "name": "stdout",
          "output_type": "stream",
          "text": [
            "Dataset squad downloaded and prepared to C:\\Users\\norap\\.cache\\huggingface\\datasets\\squad\\plain_text\\1.0.0\\d6ec3ceb99ca480ce37cdd35555d6cb2511d223b9150cce08a837ef62ffea453. Subsequent calls will reuse this data.\n"
          ]
        },
        {
          "data": {
            "text/plain": "  0%|          | 0/2 [00:00<?, ?it/s]",
            "application/vnd.jupyter.widget-view+json": {
              "version_major": 2,
              "version_minor": 0,
              "model_id": "a90bfbc4ae8a40b981791f4bd8839df3"
            }
          },
          "metadata": {},
          "output_type": "display_data"
        }
      ],
      "source": [
        "raw_datasets = load_dataset(\"squad\")\n"
      ],
      "metadata": {
        "pycharm": {
          "name": "#%%\n"
        },
        "colab": {
          "referenced_widgets": [
            "3a5c786ca3ff495dbb55ffdb3027ff93",
            "38e3e4e0c1194d3b976e3ce3314ef6ac",
            "3ea5652360b6434b81b6ea28320110d2",
            "a2e2863b006248059d8bb12f263de79d",
            "364e46d5cb6348c6a7e318364fca5e6b",
            "b3756425a87e4e4fb3b3db6f0893a6fc",
            "53288329b7f34f63ad522df19e9df575",
            "1ee091ecc68f4effb79510096ae97a10",
            "a90bfbc4ae8a40b981791f4bd8839df3"
          ]
        },
        "id": "mdfNcyUR0dJC",
        "outputId": "5af98d48-0cc2-4323-aacd-bf6351947bef"
      }
    },
    {
      "cell_type": "code",
      "execution_count": null,
      "outputs": [
        {
          "data": {
            "text/plain": "DatasetDict({\n    train: Dataset({\n        features: ['id', 'title', 'context', 'question', 'answers'],\n        num_rows: 87599\n    })\n    validation: Dataset({\n        features: ['id', 'title', 'context', 'question', 'answers'],\n        num_rows: 10570\n    })\n})"
          },
          "execution_count": 109,
          "metadata": {},
          "output_type": "execute_result"
        }
      ],
      "source": [
        "raw_datasets"
      ],
      "metadata": {
        "pycharm": {
          "name": "#%%\n"
        },
        "id": "KokceaRD0dJD",
        "outputId": "04cf9275-7de1-4c9f-c2b6-2eb532ee322c"
      }
    },
    {
      "cell_type": "code",
      "execution_count": null,
      "outputs": [],
      "source": [
        "def prepare_data(df):\n",
        "    answer = df[\"text_selection\"][0]\n",
        "    df[\"answer_start\"] = df[\"text_selection\"][\"answer_start\"][0]\n",
        "    df[\"answer_end\"] = df[\"answer_start\"] + len(answer)\n",
        "    return df"
      ],
      "metadata": {
        "pycharm": {
          "name": "#%%\n"
        },
        "id": "M7S5Qo0n0dJD"
      }
    },
    {
      "cell_type": "code",
      "execution_count": null,
      "outputs": [],
      "source": [
        "#qa_tuples.rdd.map(prepare_data)"
      ],
      "metadata": {
        "pycharm": {
          "name": "#%%\n"
        },
        "id": "_3ULmFV10dJD"
      }
    },
    {
      "cell_type": "markdown",
      "source": [
        "# 3. Choose pre-trained extractive QA (Question-Answer) model from the model hub to us"
      ],
      "metadata": {
        "collapsed": false,
        "id": "8vbwHpYo0dJE"
      }
    },
    {
      "cell_type": "markdown",
      "source": [
        ""
      ],
      "metadata": {
        "collapsed": false,
        "id": "GVCjjnpx0dJE"
      }
    },
    {
      "cell_type": "markdown",
      "source": [
        ""
      ],
      "metadata": {
        "collapsed": false,
        "id": "T0do9h3t0dJE"
      }
    },
    {
      "cell_type": "markdown",
      "source": [
        ""
      ],
      "metadata": {
        "collapsed": false,
        "id": "LLfK3kp30dJE"
      }
    }
  ]
}